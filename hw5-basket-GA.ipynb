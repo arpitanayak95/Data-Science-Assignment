{
 "cells": [
  {
   "cell_type": "markdown",
   "metadata": {},
   "source": [
    "Assignment 5:\n",
    "\n",
    "The code below runs a genetic algorithm that attempts to learn which basket of TV shows is correlated with Democrats and which basket of TV shows is correlated with Republican viewers. All the real data is left out, which is why the fitness function is defined to generate a random number. You can leave the fitness function as it is for now since you do not have access to the data as well.\n",
    "\n",
    "Answer the following questions by making changes to the code below and add comments where necessary. You can submit your code with comments as a jupyter notebook file.\n",
    "\n",
    "1. The function crossover_1 implements a crossover operator that crosses over genes between two chromosomes. Right now it is possible (accidentally) that this operator crosses over the \"same gene\" twice in the code, thereby negating the value of the crossover if that happens. Modify the function crossover_1 so that does not happen.\n",
    "\n",
    "2. Create a new crossover function called crossover_2, that implements crossover as follows: If we have two chromosomes\n",
    "-D, R, I, D, R and \n",
    "-R, R, D, D, I\n",
    "the new crossover operator should take a position (say \"3\") and crossover ALL information between the two chromosomes before or equal to that position. \n",
    "So in the above example, if i picked the number \"3\" the first chromosome's \"D,R,I\" should move to the start of the second chromosome. And the second chromosome's \"R, R, D\" should move to the start of the first chromosome.\n",
    "\n",
    "3. Modify the code for crossover_2 only so that mutation happens inside the crossover functions instead of happening in the code outside. That is, as new children are created by the crossover operation, with some (low) probability they should have mutation applied to them.\n"
   ]
  },
  {
   "cell_type": "code",
   "execution_count": 1,
   "metadata": {},
   "outputs": [
    {
     "name": "stdout",
     "output_type": "stream",
     "text": [
      "[['' '' '' '' '']\n",
      " ['' '' '' '' '']\n",
      " ['' '' '' '' '']\n",
      " ['' '' '' '' '']\n",
      " ['' '' '' '' '']\n",
      " ['' '' '' '' '']\n",
      " ['' '' '' '' '']\n",
      " ['' '' '' '' '']\n",
      " ['' '' '' '' '']\n",
      " ['' '' '' '' '']]\n",
      "[ 1.23685394e+213  6.81567307e+271  6.01346953e-154  5.28964691e+180\n",
      "  2.47379808e-091 -1.80225094e-310  2.87897802e-152  8.30807897e+151\n",
      "  6.01334637e-154  3.76152112e+233]\n"
     ]
    }
   ],
   "source": [
    "\n",
    "# genetic algorithm for learning baskets\n",
    "# input N (number of shows)\n",
    "N = 5\n",
    "# input M (number of chromosomes in the population)\n",
    "M = 10\n",
    "\n",
    "# create two dimensional array of chromosomes\n",
    "# example chromosome is \"D\",\"R\",\"D\",\"I\" meaning first show is D, second is R and so on\n",
    "# two dimensional because rows are different chromosomes, columns are indices for shows\n",
    "# example of what this looks like with three chromosomes in a universe of four shows\n",
    "# D, R, I, D\n",
    "# R, D, D, I\n",
    "# I, I, D, R\n",
    "\n",
    "import numpy as np\n",
    "showbaskets = np.empty([M,N],dtype=str)\n",
    "\n",
    "#fitness array below should store the fitness value of each chromosome\n",
    "fitness=np.empty(M,dtype=float)\n",
    "print(showbaskets)\n",
    "print(fitness)"
   ]
  },
  {
   "cell_type": "code",
   "execution_count": 2,
   "metadata": {},
   "outputs": [],
   "source": [
    "import random"
   ]
  },
  {
   "cell_type": "code",
   "execution_count": 3,
   "metadata": {},
   "outputs": [
    {
     "name": "stdout",
     "output_type": "stream",
     "text": [
      "[['D' 'R' 'R' 'R' 'I']\n",
      " ['R' 'R' 'D' 'D' 'D']\n",
      " ['R' 'R' 'R' 'I' 'R']\n",
      " ['I' 'D' 'I' 'R' 'I']\n",
      " ['D' 'R' 'D' 'R' 'R']\n",
      " ['I' 'R' 'I' 'D' 'R']\n",
      " ['R' 'R' 'I' 'R' 'R']\n",
      " ['I' 'D' 'R' 'R' 'I']\n",
      " ['R' 'I' 'D' 'I' 'I']\n",
      " ['I' 'I' 'D' 'I' 'R']]\n",
      "[0.80270675 0.51540436 0.21620744 0.39937354 0.5912667  0.94429582\n",
      " 0.42608083 0.51788785 0.03581609 0.67129355]\n"
     ]
    }
   ],
   "source": [
    "#INITIALIZATION OF POPULATION AND FITNESS\n",
    "\n",
    "#randomly assign each show as either \"D\",\"R\" or \"I\" for all chromosomes\n",
    "\n",
    "aff=[\"D\",\"R\",\"I\"]\n",
    "\n",
    "for chrome in range(M):\n",
    "    for show in range(N):\n",
    "        showbaskets[chrome,show] = aff[random.randint(0,2)]\n",
    "\n",
    "\n",
    "def calc_fitness(showbaskets,M,N,i):\n",
    "    #calculate fitness of i-th chromosome based on how good the basket assignment is\n",
    "    #i am putting in random values for now\n",
    "    #this is the function that assigns userIDs to D/R/I\n",
    "    #and then compute all the aggregates and return alpha+beta, quite straightfoward\n",
    "    fit = random.uniform(0,1)\n",
    "    return fit\n",
    "\n",
    "\n",
    "for i in range(M):\n",
    "    fitness[i]=calc_fitness(showbaskets,M,N,i)\n",
    "        \n",
    "print(showbaskets[:])\n",
    "print(fitness[:])\n",
    "\n",
    "\n"
   ]
  },
  {
   "cell_type": "code",
   "execution_count": 4,
   "metadata": {},
   "outputs": [],
   "source": [
    "def random_fitness_weighted_index(fitness):\n",
    "    total=sum(fitness)\n",
    "    x = random.uniform(0,total)\n",
    "    done = current_sum = i = 0\n",
    "    \n",
    "    while (done != 1):\n",
    "        current_sum = current_sum + fitness[i]\n",
    "        if (current_sum >= x):\n",
    "            done = 1\n",
    "        else:\n",
    "            i=i+1\n",
    "    return i\n"
   ]
  },
  {
   "cell_type": "code",
   "execution_count": 5,
   "metadata": {},
   "outputs": [],
   "source": [
    "def crossover_1(showbaskets,M,N,K,fitness):\n",
    "    \n",
    "    #pick two rows for crossover proportional to their fitness\n",
    "    row1 = random_fitness_weighted_index(fitness)\n",
    "    row2 = random_fitness_weighted_index(fitness)\n",
    "    while (row2 == row1):\n",
    "        row2 = random_fitness_weighted_index(fitness)\n",
    "        \n",
    "    \n",
    "    #pick K random points 1 <= K < N and crossover the material\n",
    "    for i in range(K):\n",
    "        pos=random.randint(0,N-1)\n",
    "        temp = showbaskets[row1,pos]\n",
    "        showbaskets[row1,pos] = showbaskets[row2,pos]\n",
    "        showbaskets[row2,pos] = temp\n",
    "        \n",
    "    # update fitness values of the chromosomes after crossover operation is done\n",
    "    fitness[row1]=calc_fitness(showbaskets,M,N,row1)\n",
    "    fitness[row2]=calc_fitness(showbaskets,M,N,row2)\n",
    "    "
   ]
  },
  {
   "cell_type": "code",
   "execution_count": 6,
   "metadata": {},
   "outputs": [],
   "source": [
    "#Q1. The function crossover_1 implements a crossover operator that crosses over genes between two chromosomes. Right now it is possible (accidentally) that this operator crosses over the \"same gene\" twice in the code, \n",
    "#thereby negating the value of the crossover if that happens. Modify the function crossover_1 so that does not happen.\n",
    "\n",
    "def crossover_1(showbaskets,M,N,K,fitness):\n",
    "    \n",
    "    #pick two rows for crossover proportional to their fitness\n",
    "    row1 = random_fitness_weighted_index(fitness)\n",
    "    row2 = random_fitness_weighted_index(fitness)\n",
    "    while (row2 == row1):\n",
    "        row2 = random_fitness_weighted_index(fitness)\n",
    "        \n",
    "    #pick K random points 1 <= K < N and crossover the material. # K=2(assume). So,just concentrate on end position.\n",
    "    End=-1\n",
    "    for i in range(K):\n",
    "        NG=0\n",
    "        while (NG==0):\n",
    "          pos=random.randint(0,N-1)\n",
    "          if(pos!=End):\n",
    "              NG=1\n",
    "        End=pos\n",
    "        temp = showbaskets[row1,pos]\n",
    "        showbaskets[row1,pos] = showbaskets[row2,pos]\n",
    "        showbaskets[row2,pos] = temp\n",
    "        \n",
    "    # update fitness values of the chromosomes after crossover operation is done\n",
    "    fitness[row1]=calc_fitness(showbaskets,M,N,row1)\n",
    "    fitness[row2]=calc_fitness(showbaskets,M,N,row2)\n"
   ]
  },
  {
   "cell_type": "code",
   "execution_count": 13,
   "metadata": {},
   "outputs": [],
   "source": [
    "#Q2 and Q3 #Create a new crossover function called crossover_2, that implements crossover as follows: If we have two chromosomes -D, R, I, D, R and -R, R, D, D, I the new crossover operator should take a position (say \"3\") and crossover ALL information between the two chromosomes before or equal to that position. So in the above example, if i picked the number \"3\" the first chromosome's \"D,R,I\" should move to the start of the second chromosome. And the second chromosome's \"R, R, D\" should move to the start of the first chromosome.\n",
    "#Modify the code for crossover_2 only so that mutation happens inside the crossover functions instead of happening in the code outside. That is, as new children are created by the crossover operation, with some (low) probability they should have mutation applied to them.\n",
    "#Mutation probability taking 0.05\n",
    "def crossover_2(showbaskets,M,N,r,fitness):\n",
    "    row1 = random_fitness_weighted_index(fitness)\n",
    "    row2 = random_fitness_weighted_index(fitness)\n",
    "    while (row2 == row1):\n",
    "       row2 = random_fitness_weighted_index(fitness)\n",
    "    \n",
    "    for i in range(r):\n",
    "      temp = showbaskets[row1,i]\n",
    "      showbaskets[row1,i] = showbaskets[row2,i]\n",
    "      showbaskets[row2,i] = temp\n",
    "\n",
    "    fitness[row1]=calc_fitness(showbaskets,M,N,row1)\n",
    "    fitness[row2]=calc_fitness(showbaskets,M,N,row2)\n",
    "\n",
    "# mutation applied to first child taking prob=0.05   \n",
    "    prob_mut=random.uniform(0, 1)\n",
    "    if (prob_mut <=0.05):\n",
    "      aff[random.randint(0,2)]\n",
    "      for i in range(r):\n",
    "        pos=random.randint(0,N-1)\n",
    "        showbaskets[row1,pos] = aff[random.randint(0,2)]    \n",
    "    fitness[row1]=calc_fitness(showbaskets,M,N,row1)   \n",
    "\n",
    "# mutation applied to second child taking prob=0.05       \n",
    "    prob_mut=random.uniform(0, 1)\n",
    "    if (prob_mut <=0.05):\n",
    "      aff[random.randint(0,2)]\n",
    "      for i in range(r):\n",
    "        pos=random.randint(0,N-1)\n",
    "        showbaskets[row2,pos] = aff[random.randint(0,2)]\n",
    "    fitness[row2]=calc_fitness(showbaskets,M,N,row2)\n",
    "    "
   ]
  },
  {
   "cell_type": "code",
   "execution_count": 14,
   "metadata": {},
   "outputs": [],
   "source": [
    "def mutation(showbaskets,M,N,K,fitness):\n",
    "    #pick K random points in ONE chromosome and randomize them\n",
    "    row=random.randint(0,M-1)\n",
    "    aff[random.randint(0,2)]\n",
    "    for i in range(K):\n",
    "        pos=random.randint(0,N-1)\n",
    "        showbaskets[row,pos] = aff[random.randint(0,2)]\n",
    "        \n",
    "    # update fitness values of the chromosome after mutation operation is done\n",
    "    fitness[row]=calc_fitness(showbaskets,M,N,row)"
   ]
  },
  {
   "cell_type": "code",
   "execution_count": 15,
   "metadata": {},
   "outputs": [
    {
     "name": "stdout",
     "output_type": "stream",
     "text": [
      "[['I' 'D' 'I' 'R' 'D']\n",
      " ['R' 'D' 'R' 'I' 'D']\n",
      " ['R' 'I' 'I' 'R' 'I']\n",
      " ['D' 'D' 'D' 'I' 'R']\n",
      " ['R' 'D' 'R' 'I' 'D']]\n",
      "[0.00923618 0.00109782 0.00614931 0.02469314 0.00624963]\n"
     ]
    }
   ],
   "source": [
    "ITER = 1000\n",
    "#run the genetic algorithm for 1000 iterations\n",
    "\n",
    "for i in range(ITER):\n",
    "    crossover_1(showbaskets,M,N,2,fitness)\n",
    "    if (random.uniform(0,1) > 0.9):\n",
    "        mutation(showbaskets,M,N,2,fitness)\n",
    "print(showbaskets[:5])\n",
    "print(fitness[:5])"
   ]
  },
  {
   "cell_type": "code",
   "execution_count": 16,
   "metadata": {},
   "outputs": [
    {
     "name": "stdout",
     "output_type": "stream",
     "text": [
      "D-Basket  1  \n",
      "Show  1\n",
      "Show  4\n",
      "R-Basket  1  \n",
      "Show  0\n",
      "Show  2\n",
      "\n",
      "D-Basket  2  \n",
      "Show  0\n",
      "Show  1\n",
      "Show  3\n",
      "Show  4\n",
      "R-Basket  2  \n",
      "\n",
      "D-Basket  3  \n",
      "R-Basket  3  \n",
      "Show  0\n",
      "Show  3\n",
      "\n"
     ]
    }
   ],
   "source": [
    "# NOW THE FUN PART. SELECT THE ROWS CORRESPONDING TO HIGHEST FITNESS\n",
    "# Pick the top-k chromosomes, select the shows for each and output\n",
    "\n",
    "sorted_indices = np.argsort(fitness)\n",
    "# print top-k values\n",
    "k=3\n",
    "for i in range(k):\n",
    "    print(\"D-Basket \",i+1,\" \")\n",
    "    for j in range(N):\n",
    "         if showbaskets[sorted_indices[i],j]==\"D\":\n",
    "                print(\"Show \",j)\n",
    "    print(\"R-Basket \",i+1,\" \")\n",
    "    for j in range(N):\n",
    "         if showbaskets[sorted_indices[i],j]==\"R\":\n",
    "                print(\"Show \",j) \n",
    "    print()\n",
    "   \n",
    "    "
   ]
  },
  {
   "cell_type": "code",
   "execution_count": 17,
   "metadata": {},
   "outputs": [
    {
     "name": "stdout",
     "output_type": "stream",
     "text": [
      "[['D' 'R' 'R' 'R' 'I']\n",
      " ['D' 'R' 'R' 'R' 'R']\n",
      " ['R' 'D' 'D' 'I' 'R']\n",
      " ['R' 'R' 'I' 'R' 'D']\n",
      " ['R' 'D' 'R' 'I' 'I']]\n",
      "[0.30074764 0.09590387 0.42647523 0.03926068 0.3495409 ]\n"
     ]
    }
   ],
   "source": [
    "ITER = 1000\n",
    "#run the genetic algorithm for 10000 iterations\n",
    "\n",
    "for i in range(ITER):\n",
    "    crossover_2(showbaskets,M,N,3,fitness)\n",
    "print(showbaskets[:5])\n",
    "print(fitness[:5])"
   ]
  },
  {
   "cell_type": "code",
   "execution_count": 18,
   "metadata": {},
   "outputs": [
    {
     "name": "stdout",
     "output_type": "stream",
     "text": [
      "D-Basket  1  \n",
      "Show  1\n",
      "Show  2\n",
      "R-Basket  1  \n",
      "Show  0\n",
      "Show  3\n",
      "\n",
      "D-Basket  2  \n",
      "Show  3\n",
      "R-Basket  2  \n",
      "Show  2\n",
      "Show  4\n",
      "\n",
      "D-Basket  3  \n",
      "Show  4\n",
      "R-Basket  3  \n",
      "Show  0\n",
      "Show  1\n",
      "Show  3\n",
      "\n"
     ]
    }
   ],
   "source": [
    "sorted_indices = np.argsort(fitness)\n",
    "# print top-k values\n",
    "k=3\n",
    "for i in range(k):\n",
    "    print(\"D-Basket \",i+1,\" \")\n",
    "    for j in range(N):\n",
    "         if showbaskets[sorted_indices[i],j]==\"D\":\n",
    "                print(\"Show \",j)\n",
    "    print(\"R-Basket \",i+1,\" \")\n",
    "    for j in range(N):\n",
    "         if showbaskets[sorted_indices[i],j]==\"R\":\n",
    "                print(\"Show \",j) \n",
    "    print()"
   ]
  },
  {
   "cell_type": "code",
   "execution_count": null,
   "metadata": {},
   "outputs": [],
   "source": []
  },
  {
   "cell_type": "code",
   "execution_count": null,
   "metadata": {},
   "outputs": [],
   "source": []
  }
 ],
 "metadata": {
  "kernelspec": {
   "display_name": "Python 3",
   "language": "python",
   "name": "python3"
  },
  "language_info": {
   "codemirror_mode": {
    "name": "ipython",
    "version": 3
   },
   "file_extension": ".py",
   "mimetype": "text/x-python",
   "name": "python",
   "nbconvert_exporter": "python",
   "pygments_lexer": "ipython3",
   "version": "3.7.1"
  }
 },
 "nbformat": 4,
 "nbformat_minor": 2
}
